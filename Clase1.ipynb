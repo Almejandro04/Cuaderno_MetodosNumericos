{
 "cells": [
  {
   "cell_type": "markdown",
   "id": "1189f7e7",
   "metadata": {},
   "source": [
    "# Clase 21/04/2025\n",
    "\n",
    "## Metodos Analiticos\n",
    "\n",
    "Se usan para el manejo de grandes cantidades de datos y las busqueda de soluciones exactas.\n",
    "La desventaja es que no siempre es posible obtener una solucion analitica en ecuaciones mas complejas o no lineales.\n",
    "\n",
    "**Ejemplo:**\n",
    "\n",
    "Mediante el metodo analitico se podria resolver ecuaciones cuadraticas aplicando factorizacion, T.C.P o la formula general."
   ]
  },
  {
   "cell_type": "code",
   "execution_count": null,
   "id": "10657042",
   "metadata": {},
   "outputs": [],
   "source": [
    "#Resolucion de una ecuacion cuadratica mediante la formula general\n",
    "import math\n",
    "\n",
    "def formula_general(a, b, c):\n",
    "    discriminante = b**2 - 4*a*c\n",
    "\n",
    "    if discriminante >= 0:\n",
    "        x1 = (-b + math.sqrt(discriminante)) / (2*a)\n",
    "        x2 = (-b - math.sqrt(discriminante)) / (2*a)\n",
    "\n",
    "        print(f\"Las soluciones son x1 = {x1} y x2 = {x2}\")\n",
    "    else:\n",
    "        print(\"El sistema no tiene soluciones reales\")\n",
    "\n",
    "#Ecuacion a resolver\n",
    "print(\"x^2 + 2x - 3 = 0\")\n",
    "\n",
    "#Llamada a la funcion \n",
    "formula_general(1, 2, -3)\n"
   ]
  },
  {
   "cell_type": "markdown",
   "id": "7db505e2",
   "metadata": {},
   "source": [
    "## Metodos Numericos\n",
    "\n",
    "Se usan aproximaciones para encontrar soluciones cuando no se puede resolver analiticamente, por lo tanto, el resultado puede contener algun tipo de error.\n",
    "\n",
    "**Ejemplo:**\n",
    "\n",
    "Se podira aplicar metodos como el de biseccion o Newton-Raphson para encontrar raices.  \n",
    "\n",
    "## Exactitud vs Precision  \n",
    "\n",
    "* **Exactitud:** Es que tan cerca esta el reusltado del valor real o verdadero.\n",
    "\n",
    "* **Precision:** Se refiere a que tan consistentes son los resultados obtenidos.\n",
    "\n",
    "![Exactitud y Precision](https://www.wikiversus.com/blog/diferencia-entre-precision-y-exactitud/img/exactitud-vs-precision-featured_hu401876fdba8597e9d7c0132daf7f3ad1_74313_1200x900_fill_lanczos_center_2.png)\n",
    "\n",
    "## Tipos de Errores\n",
    "\n",
    "* **Error de corte o truncamiento:** Se produce cuando se le quitan valores a un numero decimal.\n",
    "**Ejemplo:**\n",
    "Pi con sus primeros 15 decimales:\n",
    "Pi = 3.141592653589793\n",
    "Pi con error de truncamiento y 4 cifras significativas:\n",
    "Pi = 3.141"
   ]
  },
  {
   "cell_type": "code",
   "execution_count": null,
   "id": "a1e29920",
   "metadata": {},
   "outputs": [],
   "source": [
    "#Definicion de la constante Pi con 15 decimales como float y String\n",
    "constante_pi = 3.141592653589793\n",
    "constante_pi_string = str(constante_pi)\n",
    "\n",
    "#Calculo de la constante Pi con error de truncamiento y 4 cifras significativas\n",
    "constante_pi_truncamiento = \"\"\n",
    "contador = 0\n",
    "while contador < 5:\n",
    "        constante_pi_truncamiento += constante_pi_string[contador]\n",
    "        contador += 1\n",
    "\n",
    "print(\"Constante con error de truncamiento: \" + constante_pi_truncamiento)"
   ]
  },
  {
   "cell_type": "markdown",
   "id": "026b367f",
   "metadata": {},
   "source": [
    "* **Error de redondeo:** Se produce cuando se redondean los valores.\n",
    "**Ejemplo:**\n",
    "Pi con sus primeros 15 decimales:\n",
    "Pi = 3.141592653589793\n",
    "Pi con error de redondeo y 4 cifras significativas:\n",
    "Pi = 3.142"
   ]
  },
  {
   "cell_type": "code",
   "execution_count": null,
   "id": "dd04f536",
   "metadata": {},
   "outputs": [],
   "source": [
    "#Definicion de la constante Pi con 15 decimales como float \n",
    "constante_pi = 3.141592653589793\n",
    "\n",
    "#Calculo de la constante Pi con error de redondeo y 4 cifras significativas\n",
    "constante_pi_redondeo = f\"{constante_pi:.3f}\"\n",
    "\n",
    "print(\"Constante con error de redondeo: \" + constante_pi_redondeo)"
   ]
  },
  {
   "cell_type": "markdown",
   "id": "ce2f3cdd",
   "metadata": {},
   "source": [
    "* **Error de desbordamiento:** Se produce al superar el limite para almacenar numeros.\n",
    "**Ejemplo en Python:**"
   ]
  },
  {
   "cell_type": "code",
   "execution_count": null,
   "id": "17e98c02",
   "metadata": {},
   "outputs": [],
   "source": [
    "#Modulo sys que da acceso a la informacion del sistema\n",
    "import sys\n",
    "\n",
    "# Tamaño máximo de un entero (en Python  es ilimitado, depende de la RAM)\n",
    "print(f\"Máximo valor de int: Ilimitado (limitado solo por la memoria)\")\n",
    "\n",
    "#Tiene un limite fijo porque se basa en la representacion IEEE 754\n",
    "#Pasado los 15 digitos pueden existir errores de redondeo debido a como la representacion\n",
    "#IEEE 754 maneja los numeros flotantes\n",
    "print(f\"Máximo valor de float: {sys.float_info.max}\")\n",
    "print(f\"Precisión decimal de float: {sys.float_info.dig} dígitos\")\n",
    "a = 1e309\n",
    "print(a)  # si se excede se obtiene infinito\n",
    "\n",
    "# Tamaño máximo de estructuras como listas o strings, devuelve el mayor indice posible que se puede usar en una lista\n",
    "# Solo si se tiene suficiente memoria, sino, se obtiene un \"Memory Error\"\n",
    "print(f\"Tamaño máximo de lista/str (en teoría): {sys.maxsize}\")"
   ]
  },
  {
   "cell_type": "markdown",
   "id": "d3e3cd92",
   "metadata": {},
   "source": [
    "## Representacion Numerica del IEEE 754\n",
    "\n",
    "La representacion IEEE 754 es una forma de representar numeros de coma flotante que no pueden ser representados de forma exacta con un numero fijo.\n",
    "\n",
    "* **Signo:** Un bit que indica si el numero es positivo o negativo (0 para negativo y 1 para positivo)\n",
    "\n",
    "* **Exponente:** Es la representacion de un numero entero que determina cuanto hay que mover el punto decimal para obtener el numero correcto.\n",
    "\n",
    "* **Mantisa:** La parte que contiene los digitos significativos de la representacion."
   ]
  },
  {
   "cell_type": "code",
   "execution_count": null,
   "id": "62d629cd",
   "metadata": {},
   "outputs": [],
   "source": [
    "def calcular_entero_binario (numero):\n",
    "    \n",
    "    parte_entera_binario = \"\"\n",
    "    while numero > 0 :\n",
    "    \n",
    "        residuo = numero % 2\n",
    "        parte_entera_binario = str(residuo) + parte_entera_binario\n",
    "        numero = numero // 2 \n",
    "        \n",
    "    return parte_entera_binario\n",
    "\n",
    "def calcular_decimal_binario (numero, tamaño_mantisa):\n",
    "    \n",
    "    lista_numero_entero_decimal = [0] * tamaño_mantisa\n",
    "    i = 0\n",
    "    while numero > 0  and i < tamaño_mantisa:\n",
    "\n",
    "        parte_entera_decimal = str(numero * 2)\n",
    "\n",
    "        lista_temporal_entero_decimal = parte_entera_decimal.split(\".\")\n",
    "        \n",
    "        lista_numero_entero_decimal[i] = int(lista_temporal_entero_decimal.pop(0))\n",
    "        \n",
    "        numero = float(\"0.\" + lista_temporal_entero_decimal.pop(0))\n",
    "\n",
    "        i += 1\n",
    "    return lista_numero_entero_decimal\n",
    "\n",
    "numero = input(\"Ingrese el numero: \")\n",
    "numero_string = str(numero)\n",
    "if(numero_string[0] == \"+\" or numero_string[0] != \"-\" ):\n",
    "    signo = 0\n",
    "    numero_string = numero_string.replace(\"+\", \"\")\n",
    "else:\n",
    "    signo = 1\n",
    "    numero_string = numero_string.replace(\"-\", \"\")\n",
    "    \n",
    "lista_numero = numero_string.split(\".\")\n",
    "parte_entera = int(lista_numero[0])\n",
    "parte_decimal_string = lista_numero[1]\n",
    "parte_decimal = float(\"0.\" + parte_decimal_string)\n",
    "\n",
    "numero_opcion = int(input(\"\"\"Ingrese el numero de la opcion:\n",
    "1. Conversion a 32 bits.\n",
    "2. Conversion a 64 bits\n",
    "\"\"\"))\n",
    "\n",
    "if numero_opcion == 1:\n",
    "    mantisa = 23 \n",
    "    exponente = 126\n",
    "elif numero_opcion == 2:\n",
    "    mantisa = 52 \n",
    "    exponente = 1022\n",
    "else:\n",
    "    print(\"Opcion no valida\")\n",
    "\n",
    "exponente_numero = len(calcular_entero_binario(parte_entera)) + exponente\n",
    "exponente_numero_binario = calcular_entero_binario(exponente_numero)\n",
    "entero_binario = calcular_entero_binario(parte_entera)\n",
    "decimal_binario = calcular_decimal_binario(parte_decimal, mantisa)\n",
    "\n",
    "mantisa_primera = entero_binario[1:]\n",
    "mantisa_final = mantisa_primera\n",
    "\n",
    "for bit in decimal_binario:\n",
    "    mantisa_final += str(bit)\n",
    "    \n",
    "mantisa_final = mantisa_final[:mantisa]\n",
    "\n",
    "print(f\"El numero {numero_string} en IEEE-754: \")\n",
    "print(f\"Signo: {signo}\")\n",
    "print(f\"Exponente: {exponente_numero_binario}\")\n",
    "print(f\"Mantisa: {mantisa_final}\")\n"
   ]
  },
  {
   "cell_type": "markdown",
   "id": "37b7dbe1",
   "metadata": {},
   "source": [
    "## Calculo de error\n",
    "\n",
    "* **Error real:** Es la diferencia entre el valor real y el valor obtenido."
   ]
  },
  {
   "cell_type": "code",
   "execution_count": null,
   "id": "51abae5e",
   "metadata": {},
   "outputs": [],
   "source": [
    "#Definicion de la constante Pi con 15 decimales como float \n",
    "constante_pi = 3.141592653589793\n",
    "\n",
    "#Calculo de la constante Pi con error de redondeo y 4 cifras significativas\n",
    "constante_pi_redondeo = f\"{constante_pi:.3f}\"\n",
    "print(\"Constante con error de redondeo: \" + constante_pi_redondeo)\n",
    "\n",
    "#Funcion para el calculo del error real.\n",
    "def error_real (valor_verdadero, valor_aproximado):\n",
    "    return valor_verdadero - valor_aproximado\n",
    "\n",
    "print(f\"Error Real de la constante con error de redondeo: {error_real(constante_pi, float(constante_pi_redondeo))}\")"
   ]
  },
  {
   "cell_type": "markdown",
   "id": "30154507",
   "metadata": {},
   "source": [
    "* **Error absoluto:** Es la magnitud del error real."
   ]
  },
  {
   "cell_type": "code",
   "execution_count": null,
   "id": "f3b4213e",
   "metadata": {},
   "outputs": [],
   "source": [
    "#Definicion de la constante Pi con 15 decimales como float \n",
    "constante_pi = 3.141592653589793\n",
    "\n",
    "#Calculo de la constante Pi con error de redondeo y 4 cifras significativas\n",
    "constante_pi_redondeo = f\"{constante_pi:.3f}\"\n",
    "print(\"Constante con error de redondeo: \" + constante_pi_redondeo)\n",
    "\n",
    "#Funcion para el calculo del error absoluto.\n",
    "def error_absoluto (valor_verdadero, valor_aproximado):\n",
    "    return abs(valor_verdadero - valor_aproximado)\n",
    "\n",
    "print(f\"Error Absoluto de la constante con error de redondeo: {error_absoluto(constante_pi, float(constante_pi_redondeo))}\")"
   ]
  },
  {
   "cell_type": "markdown",
   "id": "a8331f51",
   "metadata": {},
   "source": [
    "* **Error relativo:** Es una medida proporcional entre el error absoluto y el verdadero."
   ]
  },
  {
   "cell_type": "code",
   "execution_count": null,
   "id": "3dc95a76",
   "metadata": {},
   "outputs": [],
   "source": [
    "#Definicion de la constante Pi con 15 decimales como float \n",
    "constante_pi = 3.141592653589793\n",
    "\n",
    "#Calculo de la constante Pi con error de redondeo y 4 cifras significativas\n",
    "constante_pi_redondeo = f\"{constante_pi:.3f}\"\n",
    "print(\"Constante con error de redondeo: \" + constante_pi_redondeo)\n",
    "\n",
    "#Funcion para el calculo del error relativo.\n",
    "def error_relativo (valor_verdadero, valor_aproximado):\n",
    "    if valor_verdadero != 0:\n",
    "        return (abs((valor_verdadero - valor_aproximado)/valor_verdadero))\n",
    "    else:\n",
    "        print(\"No se puede dividir para 0\")\n",
    "\n",
    "print(f\"Error Relativo de la constante con error de redondeo: {error_relativo(constante_pi, float(constante_pi_redondeo))}\")"
   ]
  },
  {
   "cell_type": "markdown",
   "id": "8be68174",
   "metadata": {},
   "source": [
    "* **Error relativo porcentual:** Es el error relativo expresado como porcentaje."
   ]
  },
  {
   "cell_type": "code",
   "execution_count": null,
   "id": "3c94265c",
   "metadata": {},
   "outputs": [],
   "source": [
    "#Definicion de la constante Pi con 15 decimales como float \n",
    "constante_pi = 3.141592653589793\n",
    "\n",
    "#Calculo de la constante Pi con error de redondeo y 4 cifras significativas\n",
    "constante_pi_redondeo = f\"{constante_pi:.3f}\"\n",
    "print(\"Constante con error de redondeo: \" + constante_pi_redondeo)\n",
    "\n",
    "#Funcion para el calculo del error relativo porcentual.\n",
    "def error_porcentual (valor_verdadero, valor_aproximado):\n",
    "    if valor_verdadero != 0:\n",
    "        return (abs((valor_verdadero - valor_aproximado)/valor_verdadero))*100\n",
    "    else:\n",
    "        print(\"No se puede dividir para 0\")\n",
    "\n",
    "print(f\"Error Relativo Porcentual de la constante con error de redondeo: {error_porcentual(constante_pi, float(constante_pi_redondeo))}\")"
   ]
  }
 ],
 "metadata": {
  "language_info": {
   "name": "python"
  }
 },
 "nbformat": 4,
 "nbformat_minor": 5
}
