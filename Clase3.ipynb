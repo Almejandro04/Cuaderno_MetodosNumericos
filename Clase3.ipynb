{
 "cells": [
  {
   "cell_type": "markdown",
   "id": "8e54b0cd",
   "metadata": {},
   "source": [
    "## Raices de una ecuacion\n",
    "\n",
    "La raiz x es la solucion de una ecuacion f de la forma:\n",
    "\n",
    "$$ f(x) = 0 $$\n",
    "\n",
    "## Teorema del valor intermedio\n",
    "\n",
    "Si f pertenece a un intervalo [a, b] y K es cualquier numero entre f(a) y f(b), entonces existe un numero *c* en (a, b) para el cual f(c) = k. La funcion debe ser continua y no tener saltos en el intervalo seleccionado. \n",
    "\n",
    "![grafica_valor_intermedio](GraficaTeoremaValorIntermedio.png)\n",
    "\n",
    "**Ejemplo**\n",
    "\n",
    "Muestre que\n",
    "$$ x^5-2x^3+3x^2-1=0 $$\n",
    "tiene una solucion en el intervalo [0, 1]"
   ]
  },
  {
   "cell_type": "markdown",
   "id": "0d8b09a6",
   "metadata": {},
   "source": []
  }
 ],
 "metadata": {
  "language_info": {
   "name": "python"
  }
 },
 "nbformat": 4,
 "nbformat_minor": 5
}
